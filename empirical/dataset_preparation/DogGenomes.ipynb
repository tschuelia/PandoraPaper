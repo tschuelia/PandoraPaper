{
 "cells": [
  {
   "cell_type": "markdown",
   "id": "212b4233a39270b8",
   "metadata": {},
   "source": [
    "# Genomic Data of 2155 Dogs\n",
    "\n",
    "For our third empirical study, we use genomic data of 2155 dogs published by Morrill et al. (2022; https://doi.org/10.1126/science.abk0639).\n",
    "\n",
    "To run this notebook, you first need to download the supplementary data from the Dryad repository: https://doi.org/10.5061/dryad.g4f4qrfr0.\n",
    "\n",
    "You only need to download the `DarwinsArk.zip` and `GeneticData.zip` directories, move them into a new directory called `DogGenomes` and unpack them there.\n",
    "\n",
    "Using the scripts provided under DOI https://doi.org/10.5281/zenodo.5808329, we first filtered the dogs for dogs with genetic data. We then extracted two groups of dogs:\n",
    "- pure-bred (n = 601) -> `pure_bred`\n",
    "- highly-admixed (n = 1071) -> `highly_admixed`\n",
    "\n",
    "Using PLINK, we extracted the respective genetic data using the IDs of the dogs in the respective group and converted the data to EIGENSTRAT format.\n",
    "\n",
    "Note that we did not apply additional LD pruning or MAF filtering, as the provided data was already filtered by the authors of the study."
   ]
  },
  {
   "cell_type": "code",
   "id": "23ca5fae5a1bbc8b",
   "metadata": {
    "ExecuteTime": {
     "end_time": "2025-01-14T10:41:52.513069Z",
     "start_time": "2025-01-14T10:41:52.504050Z"
    }
   },
   "source": [
    "import pandas as pd\n",
    "import pathlib\n",
    "import re\n",
    "import subprocess\n",
    "import tempfile\n",
    "\n",
    "from pandora.converter import run_convertf, FileFormat, get_filenames\n",
    "\n",
    "PLINK = \"plink\"  # TODO: Replace with a path to PLINK if not in $PATH\n",
    "CONVERTF = \"convertf\"  # TODO: Replace with a path to convertf if not in $PATH\n",
    "\n",
    "base_dir = pathlib.Path(\"DogGenomes\")\n",
    "darwins_ark = base_dir / \"DarwinsArk\"\n",
    "genetic_data = base_dir / \"GeneticData\"\n",
    "plink_prefix = genetic_data / \"DarwinsArk_gp-0.70_snps-only_maf-0.02_geno-0.20_hwe-midp-1e-20_het-0.25-1.00_N-2155\""
   ],
   "outputs": [],
   "execution_count": 53
  },
  {
   "cell_type": "code",
   "id": "7737db363e690ec",
   "metadata": {
    "ExecuteTime": {
     "end_time": "2025-01-14T10:41:55.554125Z",
     "start_time": "2025-01-14T10:41:54.821192Z"
    }
   },
   "source": [
    "# Filtering according to the scripts provided under DOI https://doi.org/10.5281/zenodo.5808329\n",
    "dogs = pd.read_csv(darwins_ark / \"DarwinsArk_20191115_dogs.csv\")\n",
    "answers = pd.read_csv(darwins_ark / \"DarwinsArk_20191115_answers.csv\")\n",
    "breedcalls = pd.read_csv(darwins_ark / \"DarwinsArk_20191115_breedcalls.csv\")\n",
    "\n",
    "dogs_surveyed = answers.dog.unique()\n",
    "dogs_filtered = dogs.loc[dogs.id.isin(dogs_surveyed) | dogs.id.isin(breedcalls.dog)].copy()\n",
    "dogs_filtered[\"surveyed\"] = dogs_filtered.id.isin(dogs_surveyed)\n",
    "dogs_filtered[\"confirmed_purebred\"] = dogs_filtered.conf & dogs_filtered.surveyed\n",
    "\n",
    "dogs_with_genetic_data = dogs_filtered.loc[lambda x: x.id.isin(breedcalls.dog.unique())]\n",
    "\n",
    "max_pct_per_dog = breedcalls.iloc[breedcalls.groupby(\"dog\").pct.idxmax()]\n",
    "merged = max_pct_per_dog.merge(dogs_with_genetic_data, left_on=\"dog\", right_on=\"id\")\n",
    "\n",
    "confirmed_purebred_ids = dogs_with_genetic_data.loc[dogs_with_genetic_data.confirmed_purebred].id\n",
    "confirmed_purebred = merged.loc[lambda x: x.dog.isin(confirmed_purebred_ids)]\n",
    "assert confirmed_purebred_ids.shape[0] == confirmed_purebred.shape[0], (confirmed_purebred_ids.shape[0], confirmed_purebred.shape[0])\n",
    "\n",
    "print(f\"Number of confirmed purebred dogs: {confirmed_purebred.shape[0]}\")\n",
    "\n",
    "highly_admixed = merged.loc[lambda x: x.pct < 0.45]\n",
    "highly_admixed_ids = highly_admixed.id\n",
    "print(f\"Number of highly admixed dogs: {highly_admixed.shape[0]}\")"
   ],
   "outputs": [
    {
     "name": "stdout",
     "output_type": "stream",
     "text": [
      "Number of confirmed purebred dogs: 601\n",
      "Number of highly admixed dogs: 1071\n"
     ]
    }
   ],
   "execution_count": 54
  },
  {
   "cell_type": "code",
   "execution_count": 47,
   "id": "9831a7719eda7f7b",
   "metadata": {
    "ExecuteTime": {
     "end_time": "2025-01-14T10:20:54.727738Z",
     "start_time": "2025-01-06T20:32:05.191920Z"
    }
   },
   "outputs": [],
   "source": [
    "def filter_and_convert(prefix: pathlib.Path, ids: list[int]):\n",
    "    ids = list(map(str, ids))\n",
    "\n",
    "    plink_files = get_filenames(prefix, FileFormat.PACKEDPED)\n",
    "    eigen_files = get_filenames(prefix, FileFormat.EIGENSTRAT)\n",
    "    \n",
    "    if not all(map(lambda f: f.exists(), plink_files)):\n",
    "        print(f\"Filtering data ({prefix})...\")\n",
    "        ids_file = prefix.with_suffix(\".ids\")\n",
    "        ids_file.write_text(\"\\n\".join([f\"{id} {id}\" for id in ids]))\n",
    "        cmd = [\n",
    "            str(PLINK),\n",
    "            \"--dog\",\n",
    "            \"--bfile\",\n",
    "            str(plink_prefix),\n",
    "            \"--keep\",\n",
    "            str(ids_file),\n",
    "            \"--make-bed\",\n",
    "            \"--out\",\n",
    "            str(prefix),\n",
    "        ]\n",
    "        subprocess.check_output(cmd)\n",
    "\n",
    "    if not all(map(lambda f: f.exists(), eigen_files)):\n",
    "        print(f\"Converting data to EIGEN format ({prefix})...\")\n",
    "        run_convertf(\n",
    "            convertf=CONVERTF,\n",
    "            in_prefix=prefix,\n",
    "            in_format=FileFormat.PACKEDPED,\n",
    "            out_prefix=prefix,\n",
    "            out_format=FileFormat.EIGENSTRAT,\n",
    "        )\n",
    "\n",
    "    # Annotate the populations in the .ind file\n",
    "    ind_file = eigen_files[-1]\n",
    "    new_lines = []\n",
    "    for sample in ind_file.open():\n",
    "        sample_id, sex, *_ = re.split(r\"\\s+\", sample)\n",
    "        population = merged.loc[lambda x: x.dog == int(sample_id)].breed.iloc[0].lower().title()\n",
    "        new_lines.append(\"\\t\".join([sample_id, sex, population]))\n",
    "    ind_file.write_text(\"\\n\".join(new_lines))\n",
    "    "
   ]
  },
  {
   "cell_type": "code",
   "execution_count": 48,
   "id": "7ffb0fcb20b28f2a",
   "metadata": {
    "ExecuteTime": {
     "end_time": "2025-01-14T10:20:54.729254Z",
     "start_time": "2025-01-06T09:12:44.032829Z"
    }
   },
   "outputs": [],
   "source": [
    "pure_bred_prefix = genetic_data / \"pure_bred\"\n",
    "filter_and_convert(pure_bred_prefix, confirmed_purebred_ids)\n",
    "\n",
    "highly_admixed_prefix = genetic_data / \"highly_admixed\"\n",
    "filter_and_convert(highly_admixed_prefix, highly_admixed_ids)"
   ]
  },
  {
   "cell_type": "code",
   "execution_count": null,
   "id": "9b257c2a-9ee0-4646-b48b-aee9b8f8fb8d",
   "metadata": {},
   "outputs": [],
   "source": []
  }
 ],
 "metadata": {
  "kernelspec": {
   "display_name": "Python 3 (ipykernel)",
   "language": "python",
   "name": "python3"
  },
  "language_info": {
   "codemirror_mode": {
    "name": "ipython",
    "version": 3
   },
   "file_extension": ".py",
   "mimetype": "text/x-python",
   "name": "python",
   "nbconvert_exporter": "python",
   "pygments_lexer": "ipython3",
   "version": "3.11.6"
  }
 },
 "nbformat": 4,
 "nbformat_minor": 5
}
