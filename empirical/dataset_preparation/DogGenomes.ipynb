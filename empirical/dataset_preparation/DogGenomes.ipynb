{
 "cells": [
  {
   "metadata": {},
   "cell_type": "markdown",
   "source": [
    "# Genomic Data of 2155 Dogs\n",
    "\n",
    "For our third empirical study, we use genomic data of 2155 dogs published by Morrill et al. (2022; https://doi.org/10.1126/science.abk0639).\n",
    "\n",
    "To run this notebook, you first need to download the supplementary data from the Dryad repository: https://doi.org/10.5061/dryad.g4f4qrfr0.\n",
    "\n",
    "You only need to download the `DarwinsArk.zip` and `GeneticData.zip` directories, move them into a new directory called `DogGenomes` and unpack them there.\n",
    "\n",
    "Using the scripts provided under DOI https://doi.org/10.5281/zenodo.5808329, we first filtered the dogs for dogs with genetic data. We then extracted two groups of dogs:\n",
    "- pure-bred (n = 601) -> `pure_bred`\n",
    "- highly-admixed (n = 1200) -> `highly_admixed`\n",
    "\n",
    "Using PLINK, we extracted the respective genetic data using the IDs of the dogs in the respective group and converted the data to EIGENSTRAT format.\n",
    "\n",
    "Note that we did not apply additional LD pruning or MAF filtering, as the provided data was already filtered by the authors of the study."
   ],
   "id": "212b4233a39270b8"
  },
  {
   "metadata": {
    "ExecuteTime": {
     "end_time": "2025-01-06T09:10:56.098740Z",
     "start_time": "2025-01-06T09:10:56.094849Z"
    }
   },
   "cell_type": "code",
   "source": [
    "import pandas as pd\n",
    "import pathlib\n",
    "import subprocess\n",
    "import tempfile\n",
    "\n",
    "from pandora.converter import run_convertf, FileFormat\n",
    "\n",
    "PLINK = \"plink\"  # TODO: Replace with a path to PLINK if not in $PATH\n",
    "CONVERTF = \"convertf\"  # TODO: Replace with a path to convertf if not in $PATH\n",
    "\n",
    "base_dir = pathlib.Path(\"DogGenomes\")\n",
    "darwins_ark = base_dir / \"DarwinsArk\"\n",
    "genetic_data = base_dir / \"GeneticData\"\n",
    "plink_prefix = genetic_data / \"DarwinsArk_gp-0.70_snps-only_maf-0.02_geno-0.20_hwe-midp-1e-20_het-0.25-1.00_N-2155\""
   ],
   "id": "23ca5fae5a1bbc8b",
   "outputs": [],
   "execution_count": 18
  },
  {
   "metadata": {
    "ExecuteTime": {
     "end_time": "2025-01-06T09:10:58.173523Z",
     "start_time": "2025-01-06T09:10:57.449081Z"
    }
   },
   "cell_type": "code",
   "source": [
    "# Filtering according to the scripts provided under DOI https://doi.org/10.5281/zenodo.5808329\n",
    "dogs = pd.read_csv(darwins_ark / \"DarwinsArk_20191115_dogs.csv\")\n",
    "answers = pd.read_csv(darwins_ark / \"DarwinsArk_20191115_answers.csv\")\n",
    "breedcalls = pd.read_csv(darwins_ark / \"DarwinsArk_20191115_breedcalls.csv\")\n",
    "\n",
    "dogs_surveyed = answers.dog.unique()\n",
    "dogs_filtered = dogs.loc[dogs.id.isin(dogs_surveyed) | dogs.id.isin(breedcalls.dog)].copy()\n",
    "dogs_filtered[\"surveyed\"] = dogs_filtered.id.isin(dogs_surveyed)\n",
    "dogs_filtered[\"confirmed_purebred\"] = dogs_filtered.conf & dogs_filtered.surveyed\n",
    "\n",
    "dogs_with_genetic_data = dogs_filtered.loc[lambda x: x.id.isin(breedcalls.dog.unique())]\n",
    "\n",
    "max_pct_per_dog = breedcalls.groupby(\"dog\").pct.max().reset_index()\n",
    "merged = max_pct_per_dog.merge(dogs_with_genetic_data, left_on=\"dog\", right_on=\"id\")\n",
    "\n",
    "confirmed_purebred = dogs_with_genetic_data.loc[dogs_with_genetic_data.confirmed_purebred].id\n",
    "print(f\"Number of confirmed purebred dogs: {confirmed_purebred.shape[0]}\")\n",
    "\n",
    "highly_admixed = merged.loc[lambda x: x.pct < 0.45].id\n",
    "print(f\"Number of highly admixed dogs: {highly_admixed.shape[0]}\")"
   ],
   "id": "7737db363e690ec",
   "outputs": [
    {
     "name": "stdout",
     "output_type": "stream",
     "text": [
      "Number of confirmed purebred dogs: 601\n",
      "Number of highly admixed dogs: 1071\n"
     ]
    }
   ],
   "execution_count": 19
  },
  {
   "metadata": {
    "ExecuteTime": {
     "end_time": "2025-01-06T09:12:43.363676Z",
     "start_time": "2025-01-06T09:12:43.358022Z"
    }
   },
   "cell_type": "code",
   "source": [
    "def filter_and_convert(prefix: pathlib.Path, ids: list[int]):\n",
    "    with tempfile.NamedTemporaryFile(mode=\"w\") as tmpfile:\n",
    "        tmpfile.write(\"\\n\".join(map(str, ids)))\n",
    "        tmpfile.flush()\n",
    "        cmd = [\n",
    "            str(PLINK),\n",
    "            \"--bfile\",\n",
    "            str(plink_prefix),\n",
    "            \"--keep\",\n",
    "            tmpfile.name,\n",
    "            \"--make-bed\",\n",
    "            \"--out\",\n",
    "            str(prefix),\n",
    "        ]\n",
    "        subprocess.run(cmd, check=True)\n",
    "\n",
    "    run_convertf(\n",
    "        convertf=CONVERTF,\n",
    "        in_prefix=prefix,\n",
    "        in_format=FileFormat.PACKEDPED,\n",
    "        out_prefix=prefix,\n",
    "        out_format=FileFormat.EIGENSTRAT,\n",
    "    )"
   ],
   "id": "9831a7719eda7f7b",
   "outputs": [],
   "execution_count": 26
  },
  {
   "metadata": {
    "ExecuteTime": {
     "end_time": "2025-01-06T09:12:44.134016Z",
     "start_time": "2025-01-06T09:12:44.032829Z"
    }
   },
   "cell_type": "code",
   "source": [
    "pure_bred_prefix = genetic_data / \"pure_bred\"\n",
    "filter_and_convert(pure_bred_prefix, confirmed_purebred)\n",
    "\n",
    "highly_admixed_prefix = genetic_data / \"highly_admixed\"\n",
    "filter_and_convert(highly_admixed_prefix, highly_admixed)"
   ],
   "id": "7ffb0fcb20b28f2a",
   "outputs": [
    {
     "ename": "FileNotFoundError",
     "evalue": "[Errno 2] No such file or directory: 'plink'",
     "output_type": "error",
     "traceback": [
      "\u001B[0;31m---------------------------------------------------------------------------\u001B[0m",
      "\u001B[0;31mFileNotFoundError\u001B[0m                         Traceback (most recent call last)",
      "Cell \u001B[0;32mIn[27], line 2\u001B[0m\n\u001B[1;32m      1\u001B[0m pure_bred_prefix \u001B[38;5;241m=\u001B[39m genetic_data \u001B[38;5;241m/\u001B[39m \u001B[38;5;124m\"\u001B[39m\u001B[38;5;124mpure_bred\u001B[39m\u001B[38;5;124m\"\u001B[39m\n\u001B[0;32m----> 2\u001B[0m \u001B[43mfilter_and_convert\u001B[49m\u001B[43m(\u001B[49m\u001B[43mpure_bred_prefix\u001B[49m\u001B[43m,\u001B[49m\u001B[43m \u001B[49m\u001B[43mconfirmed_purebred\u001B[49m\u001B[43m)\u001B[49m\n\u001B[1;32m      4\u001B[0m highly_admixed_prefix \u001B[38;5;241m=\u001B[39m genetic_data \u001B[38;5;241m/\u001B[39m \u001B[38;5;124m\"\u001B[39m\u001B[38;5;124mhighly_admixed\u001B[39m\u001B[38;5;124m\"\u001B[39m\n\u001B[1;32m      5\u001B[0m filter_and_convert(highly_admixed_prefix, highly_admixed)\n",
      "Cell \u001B[0;32mIn[26], line 15\u001B[0m, in \u001B[0;36mfilter_and_convert\u001B[0;34m(prefix, ids)\u001B[0m\n\u001B[1;32m      4\u001B[0m     tmpfile\u001B[38;5;241m.\u001B[39mflush()\n\u001B[1;32m      5\u001B[0m     cmd \u001B[38;5;241m=\u001B[39m [\n\u001B[1;32m      6\u001B[0m         \u001B[38;5;28mstr\u001B[39m(PLINK),\n\u001B[1;32m      7\u001B[0m         \u001B[38;5;124m\"\u001B[39m\u001B[38;5;124m--bfile\u001B[39m\u001B[38;5;124m\"\u001B[39m,\n\u001B[0;32m   (...)\u001B[0m\n\u001B[1;32m     13\u001B[0m         \u001B[38;5;28mstr\u001B[39m(prefix),\n\u001B[1;32m     14\u001B[0m     ]\n\u001B[0;32m---> 15\u001B[0m     \u001B[43msubprocess\u001B[49m\u001B[38;5;241;43m.\u001B[39;49m\u001B[43mrun\u001B[49m\u001B[43m(\u001B[49m\u001B[43mcmd\u001B[49m\u001B[43m,\u001B[49m\u001B[43m \u001B[49m\u001B[43mcheck\u001B[49m\u001B[38;5;241;43m=\u001B[39;49m\u001B[38;5;28;43;01mTrue\u001B[39;49;00m\u001B[43m)\u001B[49m\n\u001B[1;32m     17\u001B[0m run_convertf(\n\u001B[1;32m     18\u001B[0m     convertf\u001B[38;5;241m=\u001B[39mCONVERTF,\n\u001B[1;32m     19\u001B[0m     in_prefix\u001B[38;5;241m=\u001B[39mprefix,\n\u001B[0;32m   (...)\u001B[0m\n\u001B[1;32m     22\u001B[0m     out_format\u001B[38;5;241m=\u001B[39mFileFormat\u001B[38;5;241m.\u001B[39mEIGENSTRAT,\n\u001B[1;32m     23\u001B[0m )\n",
      "File \u001B[0;32m~/micromamba/envs/pandora/lib/python3.11/subprocess.py:548\u001B[0m, in \u001B[0;36mrun\u001B[0;34m(input, capture_output, timeout, check, *popenargs, **kwargs)\u001B[0m\n\u001B[1;32m    545\u001B[0m     kwargs[\u001B[38;5;124m'\u001B[39m\u001B[38;5;124mstdout\u001B[39m\u001B[38;5;124m'\u001B[39m] \u001B[38;5;241m=\u001B[39m PIPE\n\u001B[1;32m    546\u001B[0m     kwargs[\u001B[38;5;124m'\u001B[39m\u001B[38;5;124mstderr\u001B[39m\u001B[38;5;124m'\u001B[39m] \u001B[38;5;241m=\u001B[39m PIPE\n\u001B[0;32m--> 548\u001B[0m \u001B[38;5;28;01mwith\u001B[39;00m \u001B[43mPopen\u001B[49m\u001B[43m(\u001B[49m\u001B[38;5;241;43m*\u001B[39;49m\u001B[43mpopenargs\u001B[49m\u001B[43m,\u001B[49m\u001B[43m \u001B[49m\u001B[38;5;241;43m*\u001B[39;49m\u001B[38;5;241;43m*\u001B[39;49m\u001B[43mkwargs\u001B[49m\u001B[43m)\u001B[49m \u001B[38;5;28;01mas\u001B[39;00m process:\n\u001B[1;32m    549\u001B[0m     \u001B[38;5;28;01mtry\u001B[39;00m:\n\u001B[1;32m    550\u001B[0m         stdout, stderr \u001B[38;5;241m=\u001B[39m process\u001B[38;5;241m.\u001B[39mcommunicate(\u001B[38;5;28minput\u001B[39m, timeout\u001B[38;5;241m=\u001B[39mtimeout)\n",
      "File \u001B[0;32m~/micromamba/envs/pandora/lib/python3.11/subprocess.py:1026\u001B[0m, in \u001B[0;36mPopen.__init__\u001B[0;34m(self, args, bufsize, executable, stdin, stdout, stderr, preexec_fn, close_fds, shell, cwd, env, universal_newlines, startupinfo, creationflags, restore_signals, start_new_session, pass_fds, user, group, extra_groups, encoding, errors, text, umask, pipesize, process_group)\u001B[0m\n\u001B[1;32m   1022\u001B[0m         \u001B[38;5;28;01mif\u001B[39;00m \u001B[38;5;28mself\u001B[39m\u001B[38;5;241m.\u001B[39mtext_mode:\n\u001B[1;32m   1023\u001B[0m             \u001B[38;5;28mself\u001B[39m\u001B[38;5;241m.\u001B[39mstderr \u001B[38;5;241m=\u001B[39m io\u001B[38;5;241m.\u001B[39mTextIOWrapper(\u001B[38;5;28mself\u001B[39m\u001B[38;5;241m.\u001B[39mstderr,\n\u001B[1;32m   1024\u001B[0m                     encoding\u001B[38;5;241m=\u001B[39mencoding, errors\u001B[38;5;241m=\u001B[39merrors)\n\u001B[0;32m-> 1026\u001B[0m     \u001B[38;5;28;43mself\u001B[39;49m\u001B[38;5;241;43m.\u001B[39;49m\u001B[43m_execute_child\u001B[49m\u001B[43m(\u001B[49m\u001B[43margs\u001B[49m\u001B[43m,\u001B[49m\u001B[43m \u001B[49m\u001B[43mexecutable\u001B[49m\u001B[43m,\u001B[49m\u001B[43m \u001B[49m\u001B[43mpreexec_fn\u001B[49m\u001B[43m,\u001B[49m\u001B[43m \u001B[49m\u001B[43mclose_fds\u001B[49m\u001B[43m,\u001B[49m\n\u001B[1;32m   1027\u001B[0m \u001B[43m                        \u001B[49m\u001B[43mpass_fds\u001B[49m\u001B[43m,\u001B[49m\u001B[43m \u001B[49m\u001B[43mcwd\u001B[49m\u001B[43m,\u001B[49m\u001B[43m \u001B[49m\u001B[43menv\u001B[49m\u001B[43m,\u001B[49m\n\u001B[1;32m   1028\u001B[0m \u001B[43m                        \u001B[49m\u001B[43mstartupinfo\u001B[49m\u001B[43m,\u001B[49m\u001B[43m \u001B[49m\u001B[43mcreationflags\u001B[49m\u001B[43m,\u001B[49m\u001B[43m \u001B[49m\u001B[43mshell\u001B[49m\u001B[43m,\u001B[49m\n\u001B[1;32m   1029\u001B[0m \u001B[43m                        \u001B[49m\u001B[43mp2cread\u001B[49m\u001B[43m,\u001B[49m\u001B[43m \u001B[49m\u001B[43mp2cwrite\u001B[49m\u001B[43m,\u001B[49m\n\u001B[1;32m   1030\u001B[0m \u001B[43m                        \u001B[49m\u001B[43mc2pread\u001B[49m\u001B[43m,\u001B[49m\u001B[43m \u001B[49m\u001B[43mc2pwrite\u001B[49m\u001B[43m,\u001B[49m\n\u001B[1;32m   1031\u001B[0m \u001B[43m                        \u001B[49m\u001B[43merrread\u001B[49m\u001B[43m,\u001B[49m\u001B[43m \u001B[49m\u001B[43merrwrite\u001B[49m\u001B[43m,\u001B[49m\n\u001B[1;32m   1032\u001B[0m \u001B[43m                        \u001B[49m\u001B[43mrestore_signals\u001B[49m\u001B[43m,\u001B[49m\n\u001B[1;32m   1033\u001B[0m \u001B[43m                        \u001B[49m\u001B[43mgid\u001B[49m\u001B[43m,\u001B[49m\u001B[43m \u001B[49m\u001B[43mgids\u001B[49m\u001B[43m,\u001B[49m\u001B[43m \u001B[49m\u001B[43muid\u001B[49m\u001B[43m,\u001B[49m\u001B[43m \u001B[49m\u001B[43mumask\u001B[49m\u001B[43m,\u001B[49m\n\u001B[1;32m   1034\u001B[0m \u001B[43m                        \u001B[49m\u001B[43mstart_new_session\u001B[49m\u001B[43m,\u001B[49m\u001B[43m \u001B[49m\u001B[43mprocess_group\u001B[49m\u001B[43m)\u001B[49m\n\u001B[1;32m   1035\u001B[0m \u001B[38;5;28;01mexcept\u001B[39;00m:\n\u001B[1;32m   1036\u001B[0m     \u001B[38;5;66;03m# Cleanup if the child failed starting.\u001B[39;00m\n\u001B[1;32m   1037\u001B[0m     \u001B[38;5;28;01mfor\u001B[39;00m f \u001B[38;5;129;01min\u001B[39;00m \u001B[38;5;28mfilter\u001B[39m(\u001B[38;5;28;01mNone\u001B[39;00m, (\u001B[38;5;28mself\u001B[39m\u001B[38;5;241m.\u001B[39mstdin, \u001B[38;5;28mself\u001B[39m\u001B[38;5;241m.\u001B[39mstdout, \u001B[38;5;28mself\u001B[39m\u001B[38;5;241m.\u001B[39mstderr)):\n",
      "File \u001B[0;32m~/micromamba/envs/pandora/lib/python3.11/subprocess.py:1955\u001B[0m, in \u001B[0;36mPopen._execute_child\u001B[0;34m(self, args, executable, preexec_fn, close_fds, pass_fds, cwd, env, startupinfo, creationflags, shell, p2cread, p2cwrite, c2pread, c2pwrite, errread, errwrite, restore_signals, gid, gids, uid, umask, start_new_session, process_group)\u001B[0m\n\u001B[1;32m   1953\u001B[0m     err_msg \u001B[38;5;241m=\u001B[39m os\u001B[38;5;241m.\u001B[39mstrerror(errno_num)\n\u001B[1;32m   1954\u001B[0m \u001B[38;5;28;01mif\u001B[39;00m err_filename \u001B[38;5;129;01mis\u001B[39;00m \u001B[38;5;129;01mnot\u001B[39;00m \u001B[38;5;28;01mNone\u001B[39;00m:\n\u001B[0;32m-> 1955\u001B[0m     \u001B[38;5;28;01mraise\u001B[39;00m child_exception_type(errno_num, err_msg, err_filename)\n\u001B[1;32m   1956\u001B[0m \u001B[38;5;28;01melse\u001B[39;00m:\n\u001B[1;32m   1957\u001B[0m     \u001B[38;5;28;01mraise\u001B[39;00m child_exception_type(errno_num, err_msg)\n",
      "\u001B[0;31mFileNotFoundError\u001B[0m: [Errno 2] No such file or directory: 'plink'"
     ]
    }
   ],
   "execution_count": 27
  },
  {
   "metadata": {},
   "cell_type": "code",
   "outputs": [],
   "execution_count": null,
   "source": "",
   "id": "717142a2ff90af9f"
  }
 ],
 "metadata": {
  "kernelspec": {
   "display_name": "Python 3",
   "language": "python",
   "name": "python3"
  },
  "language_info": {
   "codemirror_mode": {
    "name": "ipython",
    "version": 2
   },
   "file_extension": ".py",
   "mimetype": "text/x-python",
   "name": "python",
   "nbconvert_exporter": "python",
   "pygments_lexer": "ipython2",
   "version": "2.7.6"
  }
 },
 "nbformat": 4,
 "nbformat_minor": 5
}
