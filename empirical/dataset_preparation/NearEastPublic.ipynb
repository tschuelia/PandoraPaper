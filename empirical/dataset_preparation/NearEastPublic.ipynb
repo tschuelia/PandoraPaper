{
 "cells": [
  {
   "cell_type": "markdown",
   "source": [
    "# Recreating the NearEastPublic dataset analyses\n",
    "We used the publicly available data from Lazaridis, I., Patterson, N., Mittnik, A. et al. Ancient human genomes suggest three ancestral populations for present-day Europeans. Nature 513, 409–413 (2014). https://doi.org/10.1038/nature13673"
   ],
   "metadata": {
    "collapsed": false
   }
  },
  {
   "cell_type": "code",
   "execution_count": 2,
   "outputs": [],
   "source": [
    "from filter_merge_utils import *"
   ],
   "metadata": {
    "collapsed": false,
    "ExecuteTime": {
     "end_time": "2023-11-02T19:31:38.148735Z",
     "start_time": "2023-11-02T19:31:37.535350Z"
    }
   }
  },
  {
   "cell_type": "markdown",
   "source": [
    "Uncomment and run the following cell to download the dataset from the Reich Lab website."
   ],
   "metadata": {
    "collapsed": false
   }
  },
  {
   "cell_type": "code",
   "execution_count": 5,
   "outputs": [],
   "source": [
    "! wget https://reich.hms.harvard.edu/sites/reich.hms.harvard.edu/files/inline-files/NearEastPublic.tar.gz\n",
    "! mkdir NearEastPublic && mv NearEastPublic.tar.gz NearEastPublic\n",
    "! cd NearEastPublic && tar -xf NearEastPublic.tar.gz\n",
    "! mkdir raw && mv ./* raw\n",
    "! mkdir global && mkdir westEurasia && mkdir westEurasia_ancient"
   ],
   "metadata": {
    "collapsed": false,
    "ExecuteTime": {
     "end_time": "2023-10-23T12:36:18.781309Z",
     "start_time": "2023-10-23T12:36:18.779049Z"
    }
   }
  },
  {
   "cell_type": "code",
   "execution_count": 3,
   "outputs": [],
   "source": [
    "base_dir = pathlib.Path(\"NearEastPublic\")\n",
    "dataset_prefix = base_dir / \"raw\" / \"HumanOriginsPublic2068\""
   ],
   "metadata": {
    "collapsed": false,
    "ExecuteTime": {
     "end_time": "2023-11-02T19:31:40.153643Z",
     "start_time": "2023-11-02T19:31:40.146421Z"
    }
   }
  },
  {
   "cell_type": "markdown",
   "source": [
    "## West-Eurasian EigenDataset\n",
    "We filter the dataset to reproduce the dataset of west-eurasion samples.\n",
    "For this, we use the list of west-eurasian populations as provided in the supplement of the publication."
   ],
   "metadata": {
    "collapsed": false
   }
  },
  {
   "cell_type": "code",
   "execution_count": 7,
   "outputs": [],
   "source": [
    "westeurasian_prefix = base_dir / \"westEurasia\" / \"HumanOriginsPublic2068.westEurasian\"\n",
    "westeurasian_population_file = pathlib.Path(f\"{westeurasian_prefix}.populations.txt\")\n",
    "\n",
    "westeurasian_set = get_pop_set_from_string(\"Abkhasian, Adygei, Albanian, Armenian, Ashkenazi_Jew, Jew_Ashkenazi, Balkar, Basque, BedouinA, BedouinB, Belarusian, Bergamo, Bulgarian, Canary_Islanders, Canary_Islander, Chechen, Croatian, Cypriot, Czech, Druze, English, Estonian, Finnish, French, French_South, Georgian, Georgian_Jew, Jew_Georgian, Greek, Hungarian, Icelandic, Iranian, Iranian_Jew, Jew_Iranian, Iraqi_Jew, Jew_Iraqi, Italian_South, Jordanian, Kumyk, LaBrana, Lebanese, Lezgin, Libyan_Jew, Jew_Libyan, Lithuanian, Loschbour, Maltese, Mordovian, Moroccan_Jew, Jew_Moroccan, Motala12, Motala_merge, North_Ossetian, Norwegian, Orcadian, Palestinian, Russian, Sardinian, Saudi, Scottish, Sicilian, Spanish, Spanish_North, Stuttgart, Syrian, Tunisian_Jew, Jew_Tunisian, Turkish, Turkish_Jew, Jew_Turkish, Tuscan, Ukrainian, Yemenite_Jew, Jew_Yemenite\")\n",
    "\n",
    "save_pop_set(westeurasian_set, westeurasian_population_file)\n",
    "\n",
    "# filter the westeurasian populations\n",
    "filter_dataset(\n",
    "    prefix_in=dataset_prefix,\n",
    "    prefix_out=westeurasian_prefix,\n",
    "    poplistname=westeurasian_population_file,\n",
    "    redo=True\n",
    ")"
   ],
   "metadata": {
    "collapsed": false,
    "ExecuteTime": {
     "end_time": "2023-11-02T19:40:00.228956Z",
     "start_time": "2023-11-02T19:39:21.576818Z"
    }
   }
  }
 ],
 "metadata": {
  "kernelspec": {
   "display_name": "Python 3",
   "language": "python",
   "name": "python3"
  },
  "language_info": {
   "codemirror_mode": {
    "name": "ipython",
    "version": 2
   },
   "file_extension": ".py",
   "mimetype": "text/x-python",
   "name": "python",
   "nbconvert_exporter": "python",
   "pygments_lexer": "ipython2",
   "version": "2.7.6"
  }
 },
 "nbformat": 4,
 "nbformat_minor": 0
}
