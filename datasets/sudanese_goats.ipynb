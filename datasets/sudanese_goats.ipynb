{
 "cells": [
  {
   "cell_type": "markdown",
   "source": [
    "# Sudanese Goats\n",
    "Rahmatalla, S.A., Arends, D., Reissmann, M. et al. Whole genome population genetics analysis of Sudanese goats identifies regions harboring genes associated with major traits. BMC Genet 18, 92 (2017). https://doi.org/10.1186/s12863-017-0553-z"
   ],
   "metadata": {
    "collapsed": false
   },
   "id": "e7f1616cfab78198"
  },
  {
   "cell_type": "code",
   "execution_count": 46,
   "outputs": [],
   "source": [
    "import pathlib\n",
    "import pickle\n",
    "import numpy as np\n",
    "import pandas as pd\n",
    "import tqdm.contrib.concurrent\n",
    "\n",
    "GOAT_DATA_DIR = pathlib.Path(\"sudanese_goats\")\n",
    "GOAT_DATA_DIR.mkdir(exist_ok=True)\n",
    "\n",
    "SAMPLE_ID_FILE = GOAT_DATA_DIR / \"sample_ids.pickle\"\n",
    "POPULATION_FILE = GOAT_DATA_DIR / \"populations.pickle\"\n",
    "GENO_FILE = GOAT_DATA_DIR / \"geno.pickle\"\n",
    "\n",
    "GENO_CSV = GOAT_DATA_DIR / \"goats.geno.csv\"\n",
    "SNP_CSV = GOAT_DATA_DIR / \"goats.snp.csv\"\n",
    "IND_CSV = GOAT_DATA_DIR / \"goats.ind.csv\"\n",
    "\n",
    "EIG_GENO = GOAT_DATA_DIR / \"goats.geno\"\n",
    "EIG_SNP = GOAT_DATA_DIR / \"goats.snp\"\n",
    "EIG_IND = GOAT_DATA_DIR / \"goats.ind\""
   ],
   "metadata": {
    "collapsed": false,
    "ExecuteTime": {
     "start_time": "2023-11-28T07:41:15.932661Z"
    }
   },
   "id": "initial_id"
  },
  {
   "cell_type": "code",
   "execution_count": 47,
   "outputs": [],
   "source": [
    "def _get_data_from_csv():\n",
    "    def _convert_row(args):\n",
    "        idx, row = args\n",
    "        reference_allel = snps.loc[idx][\"Reference Allele\"]\n",
    "        snp_calls = []\n",
    "        for vals in row.values:\n",
    "            if isinstance(vals, float):\n",
    "                snp_calls.append(np.nan)\n",
    "                continue\n",
    "            c1, c2 = list(vals)\n",
    "            if c1 == c2:\n",
    "               try:\n",
    "                    if c1 == reference_allel:\n",
    "                        # two copies of the reference allel\n",
    "                        snp_calls.append(2)\n",
    "                    else:\n",
    "                        # zero copies of the reference allel\n",
    "                        snp_calls.append(0)\n",
    "               except:\n",
    "                   print(c1, c2, reference_allel)\n",
    "            else:\n",
    "                # one copy of the reference allel\n",
    "                snp_calls.append(1)\n",
    "        return snp_calls\n",
    "    geno = pd.read_csv(GENO_CSV, delimiter=\";\", index_col=0)\n",
    "    snps = pd.read_csv(SNP_CSV, delimiter=\";\", index_col=0)\n",
    "    snps = snps.dropna(subset=\"Reference Allele\")\n",
    "    inds = pd.read_csv(IND_CSV, delimiter=\";\", index_col=0)\n",
    "    \n",
    "    sample_ids = geno.columns.to_series()\n",
    "    sample_ids.to_pickle(SAMPLE_ID_FILE)\n",
    "    populations = pd.Series([inds.loc[s].Breed for s in sample_ids])\n",
    "    populations.to_pickle(POPULATION_FILE)\n",
    "    \n",
    "    genotype_data = tqdm.contrib.concurrent.thread_map(_convert_row, geno.iterrows(), total=geno.shape[0])\n",
    "    genotype_data = [g for g in genotype_data if g]\n",
    "    genotype_data = np.asarray(genotype_data).T\n",
    "    pickle.dump(genotype_data, GENO_FILE.open(\"wb\"))\n",
    "    return genotype_data, sample_ids, populations\n",
    "\n",
    "def get_data(redo=False):\n",
    "    files_exist = SAMPLE_ID_FILE.exists() and POPULATION_FILE.exists() and GENO_FILE.exists()\n",
    "    if files_exist and not redo:\n",
    "        genotype_data = pickle.load(GENO_FILE.open(\"rb\"))\n",
    "        sample_ids = pickle.load(SAMPLE_ID_FILE.open(\"rb\"))\n",
    "        populations = pickle.load(POPULATION_FILE.open(\"rb\"))\n",
    "        return genotype_data, sample_ids, populations\n",
    "    else:\n",
    "        return _get_data_from_csv()\n",
    "\n",
    "def _geno_to_eigen():\n",
    "    genotype_data, _, _ = get_data()\n",
    "    geno = genotype_data.T\n",
    "    geno[np.isnan(geno)] = 9\n",
    "    geno = geno.astype(int)\n",
    "    \n",
    "    with EIG_GENO.open(\"w\") as f:\n",
    "        for line in geno:\n",
    "            f.write(\"\".join([str(v) for v in line]))\n",
    "            f.write(\"\\n\")\n",
    "            \n",
    "\n",
    "def _ind_to_eigen():\n",
    "    inds = pd.read_csv(IND_CSV, delimiter=\";\", index_col=0)\n",
    "\n",
    "    with EIG_IND.open(\"w\") as f:\n",
    "        for idx, row in inds.iterrows():\n",
    "            sample_id = idx.replace(\" \", \"_\")\n",
    "            # female goat according to the publication\n",
    "            f.write(f\"{sample_id}\\tF\\t{row.Breed}\\n\")\n",
    "        \n",
    "def _snp_to_eigen():\n",
    "    snps = pd.read_csv(SNP_CSV, delimiter=\";\", index_col=0)\n",
    "    snps = snps.dropna(subset=\"Reference Allele\")\n",
    "    \n",
    "    with EIG_SNP.open(\"w\") as f:\n",
    "        for idx, row in snps.iterrows():\n",
    "            chrom = row.Chromosome\n",
    "            if chrom == \"X\":\n",
    "                chrom = 30\n",
    "                \n",
    "            ref = row[\"Reference Allele\"]\n",
    "            snp_allels = row[\"SNP alleles\"]\n",
    "            s1, s2 = snp_allels.split(\"/\")\n",
    "            alt = s1 if s1 != ref else s2\n",
    "            f.write(f\"{row.rsID}\\t{chrom}\\t0.0\\t{int(row.Position)}\\t{ref}\\t{alt}\\n\")\n",
    "            \n",
    "            \n",
    "def data_to_eigen(redo=False):\n",
    "    files_exist = EIG_SNP.exists() and EIG_IND.exists() and EIG_GENO.exists()\n",
    "    if redo or not files_exist:\n",
    "        _geno_to_eigen()\n",
    "        _ind_to_eigen()\n",
    "        _snp_to_eigen()"
   ],
   "metadata": {
    "collapsed": false,
    "ExecuteTime": {
     "end_time": "2023-11-28T07:41:18.172890Z",
     "start_time": "2023-11-28T07:41:18.161271Z"
    }
   },
   "id": "219ed4e66b6a2a4c"
  },
  {
   "cell_type": "code",
   "execution_count": 48,
   "outputs": [],
   "source": [
    "data_to_eigen()"
   ],
   "metadata": {
    "collapsed": false,
    "ExecuteTime": {
     "end_time": "2023-11-28T07:41:19.229829Z",
     "start_time": "2023-11-28T07:41:19.221451Z"
    }
   },
   "id": "2e1d52b8d6f3d289"
  },
  {
   "cell_type": "code",
   "execution_count": null,
   "outputs": [],
   "source": [],
   "metadata": {
    "collapsed": false
   },
   "id": "def90cb1b07d8e78"
  }
 ],
 "metadata": {
  "kernelspec": {
   "display_name": "Python 3",
   "language": "python",
   "name": "python3"
  },
  "language_info": {
   "codemirror_mode": {
    "name": "ipython",
    "version": 2
   },
   "file_extension": ".py",
   "mimetype": "text/x-python",
   "name": "python",
   "nbconvert_exporter": "python",
   "pygments_lexer": "ipython2",
   "version": "2.7.6"
  }
 },
 "nbformat": 4,
 "nbformat_minor": 5
}
