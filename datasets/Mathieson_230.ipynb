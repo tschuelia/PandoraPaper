{
 "cells": [
  {
   "cell_type": "markdown",
   "source": [
    "# Recreating the Mathieson et al. (2015) dataset analyses\n",
    "In their analyses, Mathieson et al. place 230 ancient Eurasian samples on the west-eurasian subset of the Human Origins (NearEastPublic) dataset.\n",
    "\n",
    "Mathieson, I., Lazaridis, I., Rohland, N. et al. Genome-wide patterns of selection in 230 ancient Eurasians. Nature 528, 499–503 (2015). https://doi.org/10.1038/nature16152\n",
    "\n",
    "**Note: run the NearEastPublic.ipynb notebook first as we need the west-eurasian dataset for these analyses**"
   ],
   "metadata": {
    "collapsed": false
   }
  },
  {
   "cell_type": "code",
   "execution_count": 1,
   "outputs": [],
   "source": [
    "! wget https://reich.hms.harvard.edu/sites/reich.hms.harvard.edu/files/inline-files/MathiesonEtAl_genotypes_April2016.tar.gz\n",
    "! tar -xf MathiesonEtAl_genotypes_April2016.tar.gz && rm MathiesonEtAl_genotypes_April2016.tar.gz\n",
    "! cd MathiesonEtAl_genotypes && rm -r mtgens && mkdir westEurasian_ancient"
   ],
   "metadata": {
    "collapsed": false,
    "ExecuteTime": {
     "end_time": "2023-10-23T12:38:17.196580Z",
     "start_time": "2023-10-23T12:38:17.193297Z"
    }
   }
  },
  {
   "cell_type": "code",
   "execution_count": 1,
   "outputs": [],
   "source": [
    "from filter_merge_utils import *\n",
    "\n",
    "base_dir = pathlib.Path(\"MathiesonEtAl_genotypes\")\n",
    "west_eurasia_prefix = pathlib.Path(\"NearEastPublic\") / \"westEurasia\" / \"HumanOriginsPublic2068.westEurasian\"\n",
    "ancient_prefix = base_dir / \"full230\""
   ],
   "metadata": {
    "collapsed": false,
    "ExecuteTime": {
     "end_time": "2023-11-13T13:24:26.038915Z",
     "start_time": "2023-11-13T13:24:25.458648Z"
    }
   }
  },
  {
   "cell_type": "markdown",
   "source": [
    "### Merging the west-eurasian samples with ancient samples"
   ],
   "metadata": {
    "collapsed": false
   }
  },
  {
   "cell_type": "code",
   "execution_count": 17,
   "outputs": [],
   "source": [
    "merged_prefix = base_dir / \"westEurasian_ancient\" / \"Mathieson230_ModernWestEurasia\"\n",
    "\n",
    "# The ancient samples contain some samples we want to exclude prior to PCA (e.g. Chimp sequences)\n",
    "merge_datasets(\n",
    "    prefix_ds1=west_eurasia_prefix,\n",
    "    prefix_ds2=ancient_prefix,\n",
    "    prefix_out=merged_prefix,\n",
    "    redo=False\n",
    ")\n",
    "\n",
    "ancient_ind_file = pathlib.Path(f\"{ancient_prefix}.ind\")\n",
    "ancient_ind_data = indfile_to_dataframe(ancient_ind_file)\n",
    "ancient_populations = ancient_ind_data.population.unique().tolist()\n",
    "\n",
    "# finally, save the population names of the modern samples in a specific file such that we can later use it for the PCA projection\n",
    "ind_file = pathlib.Path(f\"{merged_prefix}.ind\")\n",
    "ind_df = indfile_to_dataframe(ind_file)\n",
    "\n",
    "modern = [p for p in ind_df.population.unique() if p not in ancient_populations]\n",
    "modern_populations = base_dir / \"westEurasian_ancient\" / \"modern.poplist.txt\"\n",
    "modern_populations.open(\"w\").write(\"\\n\".join(modern))"
   ],
   "metadata": {
    "collapsed": false
   }
  }
 ],
 "metadata": {
  "kernelspec": {
   "display_name": "Python 3",
   "language": "python",
   "name": "python3"
  },
  "language_info": {
   "codemirror_mode": {
    "name": "ipython",
    "version": 2
   },
   "file_extension": ".py",
   "mimetype": "text/x-python",
   "name": "python",
   "nbconvert_exporter": "python",
   "pygments_lexer": "ipython2",
   "version": "2.7.6"
  }
 },
 "nbformat": 4,
 "nbformat_minor": 0
}
