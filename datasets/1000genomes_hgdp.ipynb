{
 "cells": [
  {
   "cell_type": "markdown",
   "source": [
    "# 1000 Genomes Data - Human Genome Diversity Project \n",
    "\n",
    "We obtained the HGDP dataset using PLINK (https://www.cog-genomics.org/plink/2.0/resources#phase3_1kg) and added some pre-processing steps.\n",
    "Execute the following cells to obtain the data.\n",
    "Note than ~200GB of storage is required!\n",
    "\n",
    "### Workflow:\n",
    "1. Download the data\n",
    "2. Filter the dataset to keep only the autosomal data\n",
    "3. Convert the dataset to PLINK binary data (PACKEDPED: `.bed`, `.bim`, `.fam` files)\n",
    "4. LD prune the dataset\n",
    "5. Convert the dataset to EIGENSTRAT (`.ind`, `.snp`, `.geno` files)\n",
    "6. Reannotate the correct populations"
   ],
   "metadata": {
    "collapsed": false
   },
   "id": "29d4d1a07b152c51"
  },
  {
   "cell_type": "code",
   "execution_count": null,
   "outputs": [],
   "source": [
    "! wget https://www.dropbox.com/s/hppj1g1gzygcocq/hgdp_all.pgen.zst?dl=1 && mv 'hgdp_all.pgen.zst?dl=1' hgdp_all.pgen.zst\n",
    "! wget https://www.dropbox.com/s/1mmkq0bd9ax8rng/hgdp_all.pvar.zst?dl=1 && mv 'hgdp_all.pvar.zst?dl=1' hgdp_all.pvar.zst\n",
    "! wget https://www.dropbox.com/s/0zg57558fqpj3w1/hgdp.psam?dl=1 && mv 'hgdp.psam?dl=1' hgdp_all.psam"
   ],
   "metadata": {
    "collapsed": false
   },
   "id": "b42ec37bea32e1ca"
  },
  {
   "cell_type": "code",
   "execution_count": null,
   "outputs": [],
   "source": [
    "! plink2 --zst-decompress hgdp_all.pgen.zst  > hgdp_all.pgen\n",
    "! plink2 --pfile hgdp_all vzs --max-alleles 2 --make-bed --out hgdp_all"
   ],
   "metadata": {
    "collapsed": false
   },
   "id": "4831099c5584abfa"
  },
  {
   "cell_type": "code",
   "execution_count": null,
   "outputs": [],
   "source": [
    "# \"--chr 1-22\" excludes all variants not on the listed chromosomes\n",
    "# \"--output-chr 26\" uses numeric chromosome codes\n",
    "# \"--max-alleles 2\": PLINK 1 binary does not allow multi-allelic variants\n",
    "# \"--rm-dup\" removes duplicate-ID variants\n",
    "# \"--set-missing-var-id\" replaces missing IDs with a pattern\n",
    "\n",
    "! plink2 --pfile hgdp_all vzs \\\n",
    "       --chr 1-22 \\\n",
    "       --output-chr 26 \\\n",
    "       --max-alleles 2 \\\n",
    "       --rm-dup exclude-mismatch \\\n",
    "       --set-missing-var-ids '@_#_$1_$2' \\\n",
    "       --new-id-max-allele-len 510 \\\n",
    "       --make-pgen \\\n",
    "       --out hgdp_autosomes"
   ],
   "metadata": {
    "collapsed": false
   },
   "id": "dffca4c27e3320af"
  },
  {
   "cell_type": "code",
   "execution_count": null,
   "outputs": [],
   "source": [
    "# pgen to bed + remove most monomorphic SNPs \n",
    "\n",
    "! plink2 --pfile hgdp_autosomes \\\n",
    "       --maf 0.005 \\\n",
    "       --make-bed \\\n",
    "       --out hgdp_autosomes"
   ],
   "metadata": {
    "collapsed": false
   },
   "id": "efd7659a3c88af05"
  },
  {
   "cell_type": "code",
   "execution_count": null,
   "outputs": [],
   "source": [
    "# LD pruning with r^2 = 0.5, sliding window of 50 variants with shift of 5\n",
    "! plink2 --bfile hgdp_autosomes \\\n",
    "       --indep-pairwise 50 5 0.5 \\\n",
    "       --rm-dup exclude-mismatch \\\n",
    "       --set-missing-var-ids '@_#_$1_$2' \\\n",
    "       --new-id-max-allele-len 341 \\\n",
    "       --out hgdp_autosomes_ld_pruned\n",
    "! plink2 --bfile hgdp_autosomes --extract hgdp_autosomes_ld_pruned.prune.in --out hgdp_autosomes_ld_pruned --make-bed"
   ],
   "metadata": {
    "collapsed": false
   },
   "id": "adecf99b3769b804"
  },
  {
   "cell_type": "code",
   "execution_count": null,
   "outputs": [],
   "source": [
    "# convert the dataset to EIGENSTRAT format\n",
    "import pathlib\n",
    "import pandas as pd\n",
    "\n",
    "from pandora.converter import run_convertf\n",
    "from pandora.custom_types import FileFormat\n",
    "\n",
    "run_convertf(\n",
    "    convertf=\"convertf\",\n",
    "    in_prefix=pathlib.Path(\"hgdp_autosomes_ld_pruned\"),\n",
    "    in_format=FileFormat.PACKEDPED,\n",
    "    out_prefix=pathlib.Path(\"hgdp_autosomes_ld_pruned\"),\n",
    "    out_format=FileFormat.EIGENSTRAT\n",
    ")\n",
    "\n",
    "# and reannotate the population information in the .ind file for visualization later on\n",
    "sample_info = pd.read_parquet(\"1000genomes/HGDP.parquet\")\n",
    "ind_file = pathlib.Path(\"hgdp_autosomes_ld_pruned.ind\")\n",
    "\n",
    "new_ind_content = []\n",
    "for line in ind_file.open():\n",
    "    sample_id, sex, _ = line.split()\n",
    "    population = sample_info.loc[lambda x: x.sample_id == sample_id].population\n",
    "    population = population.replace(\" \", \"_\")\n",
    "    assert population.shape[0] == 1\n",
    "    new_ind_content.append(f\"{sample_id} {sex} {population.item()}\")\n",
    "\n",
    "ind_file.write_text(\"\\n\".join(new_ind_content))"
   ],
   "metadata": {
    "collapsed": false
   },
   "id": "ddb96c7e97edf96a"
  },
  {
   "cell_type": "markdown",
   "source": [
    "## Run Pandora\n",
    "\n",
    "To run Pandora for the sliding window analyses, paste the following into a file called `sliding_window.yaml` and then run the analysis with `pandora -c sliding_window.yaml`. \n",
    "We ran the analyses three times for different `n_replicates`: `12`, `50`, `100`. Make sure to also adjust the result dir accordingly.\n",
    "\n",
    "```yaml\n",
    "dataset_prefix: hgdp_autosomes_ld_pruned\n",
    "result_dir: sliding_window/hgdp_12_windows\n",
    "n_replicates: 12\n",
    "analysis_mode: SLIDING_WINDOW\n",
    "seed: 0\n",
    "```"
   ],
   "metadata": {
    "collapsed": false
   },
   "id": "3954ab175bbd7333"
  }
 ],
 "metadata": {
  "kernelspec": {
   "display_name": "Python 3",
   "language": "python",
   "name": "python3"
  },
  "language_info": {
   "codemirror_mode": {
    "name": "ipython",
    "version": 2
   },
   "file_extension": ".py",
   "mimetype": "text/x-python",
   "name": "python",
   "nbconvert_exporter": "python",
   "pygments_lexer": "ipython2",
   "version": "2.7.6"
  }
 },
 "nbformat": 4,
 "nbformat_minor": 5
}
