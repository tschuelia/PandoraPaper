{
 "cells": [
  {
   "cell_type": "markdown",
   "source": [
    "# Affymetrix Patterson et al. 2012\n",
    "Nick Patterson, Priya Moorjani, Yontao Luo, Swapan Mallick, Nadin Rohland, Yiping Zhan, Teri Genschoreck, Teresa Webster, David Reich, Ancient Admixture in Human History, Genetics, Volume 192, Issue 3, 1 November 2012, Pages 1065–1093, https://doi.org/10.1534/genetics.112.145037\n",
    "\n",
    "## Note on smartpca settings:\n",
    "Based on the descriptions in the main paper and supplement, we were not sure about the settings used for the PCA analyses of all 13 panels. So we decided to use the standard settings in smartpca.\n"
   ],
   "metadata": {
    "collapsed": false
   },
   "id": "28901eb5458dfc01"
  },
  {
   "cell_type": "code",
   "execution_count": 6,
   "outputs": [],
   "source": [
    "! wget https://reich.hms.harvard.edu/sites/reich.hms.harvard.edu/files/inline-files/Data.tar\n",
    "! mkdir Affymetrix_Patterson_2012 && mv Data.tar Affymetrix_Patterson_2012\n",
    "! cd Affymetrix_Patterson_2012 && tar -xf Data.tar\n",
    "! cd Affymetrix_Patterson_2012 && mv admixtools\\ 2/* . && rm -r admixtools\\ 2 && rm Data.tar"
   ],
   "metadata": {
    "collapsed": false,
    "ExecuteTime": {
     "end_time": "2023-10-23T12:55:38.915071Z",
     "start_time": "2023-10-23T12:55:38.901171Z"
    }
   },
   "id": "55bf81b432d2de46"
  }
 ],
 "metadata": {
  "kernelspec": {
   "display_name": "Python 3",
   "language": "python",
   "name": "python3"
  },
  "language_info": {
   "codemirror_mode": {
    "name": "ipython",
    "version": 2
   },
   "file_extension": ".py",
   "mimetype": "text/x-python",
   "name": "python",
   "nbconvert_exporter": "python",
   "pygments_lexer": "ipython2",
   "version": "2.7.6"
  }
 },
 "nbformat": 4,
 "nbformat_minor": 5
}
