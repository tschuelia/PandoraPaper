{
 "cells": [
  {
   "cell_type": "markdown",
   "source": [
    "# Southeast European Sheep \n",
    "\n",
    "Ciani, E., Mastrangelo, S., Da Silva, A. et al. On the origin of European sheep as revealed by the diversity of the Balkan breeds and by optimizing population-genetic analysis tools. Genet Sel Evol 52, 25 (2020). https://doi.org/10.1186/s12711-020-00545-7"
   ],
   "metadata": {
    "collapsed": false
   },
   "id": "a0d305b85c0b9255"
  },
  {
   "cell_type": "code",
   "execution_count": 126,
   "outputs": [],
   "source": [
    "# ! mkdir southeast_european_sheep && cd southeast_european_sheep && wget https://figshare.com/ndownloader/articles/8947346/versions/1\n",
    "# ! cd southeast_european_sheep && unzip 1 && rm 1 "
   ],
   "metadata": {
    "collapsed": false,
    "ExecuteTime": {
     "end_time": "2023-11-28T09:43:29.048180Z",
     "start_time": "2023-11-28T09:43:29.045070Z"
    }
   },
   "id": "ad54f15a1a549b4a"
  },
  {
   "cell_type": "code",
   "execution_count": 124,
   "outputs": [],
   "source": [
    "import pathlib\n",
    "import shutil\n",
    "\n",
    "import numpy as np\n",
    "import pandas as pd\n",
    "\n",
    "from pandora.converter import run_convertf\n",
    "from pandora.custom_types import FileFormat\n",
    "from pandora.dataset import numpy_dataset_from_eigenfiles\n",
    "\n",
    "\n",
    "BASE_DIR = pathlib.Path(\"southeast_european_sheep\")\n",
    "\n",
    "# We use the LD pruned dataset similar to the publication\n",
    "FULL_DATASET_PREFIX = BASE_DIR / \"OaSNP1477x21960-1807\"\n",
    "SAMPLED_DATASET_PREFIX = BASE_DIR / \"sheep\""
   ],
   "metadata": {
    "collapsed": false,
    "ExecuteTime": {
     "start_time": "2023-11-28T09:43:24.845428Z"
    }
   },
   "id": "initial_id"
  },
  {
   "cell_type": "code",
   "execution_count": 18,
   "outputs": [],
   "source": [
    "run_convertf(\n",
    "    in_prefix=FULL_DATASET_PREFIX,\n",
    "    in_format=FileFormat.PACKEDPED,\n",
    "    out_prefix=FULL_DATASET_PREFIX,\n",
    "    out_format=FileFormat.EIGENSTRAT,\n",
    "    convertf=\"convertf\"\n",
    ")\n",
    "\n",
    "# The convertf run fails to retrieve the correct populations, so we manually fix the populations in the .ind file\n",
    "fam_file = FULL_DATASET_PREFIX.with_suffix(\".fam\")\n",
    "ind_file = FULL_DATASET_PREFIX.with_suffix(\".ind\")\n",
    "\n",
    "# convert the .fam data to a pandas dataframe\n",
    "fam_data = {\n",
    "    \"sample_id\": [],\n",
    "    \"population\": []\n",
    "}\n",
    "for fam in fam_file.open():\n",
    "    # OldNorwegianSpael NSO234 0 0 1 -9\n",
    "    population, sample_id, *_ = fam.split()\n",
    "    fam_data[\"population\"].append(population)\n",
    "    fam_data[\"sample_id\"].append(sample_id)\n",
    "\n",
    "fam_data = pd.DataFrame(fam_data)\n",
    "\n",
    "# convert the .ind data to a pandas dataframe\n",
    "ind_data = {\n",
    "    \"sample_id\": [],\n",
    "    \"sex\": []\n",
    "}\n",
    "for ind in ind_file.open():\n",
    "    # FIN76 U  ???\n",
    "    sample_id, sex, _ = ind.split()\n",
    "    ind_data[\"sample_id\"].append(sample_id)\n",
    "    ind_data[\"sex\"].append(sex)\n",
    "ind_data = pd.DataFrame(ind_data)\n",
    "\n",
    "ind_data = fam_data.merge(ind_data, on=\"sample_id\")\n",
    "\n",
    "with ind_file.open(\"w\") as f:\n",
    "    for idx, row in ind_data.iterrows():\n",
    "        f.write(f\"{row.sample_id}\\t{row.sex}\\t{row.population}\\n\")"
   ],
   "metadata": {
    "collapsed": false,
    "ExecuteTime": {
     "end_time": "2023-11-28T08:40:45.273539Z",
     "start_time": "2023-11-28T08:40:45.067737Z"
    }
   },
   "id": "a50bc0a96dff0f5f"
  },
  {
   "cell_type": "code",
   "execution_count": 28,
   "outputs": [
    {
     "name": "stdout",
     "output_type": "stream",
     "text": [
      "(1477,) (1477,) (1477, 21960)\n"
     ]
    }
   ],
   "source": [
    "# in their publication, Ciani et al. only use up to 6 individuals per population for the PCA analyses\n",
    "# since we don't know which ones they used, for each population we randomly sample 6 individuals\n",
    "full_dataset = numpy_dataset_from_eigenfiles(FULL_DATASET_PREFIX)"
   ],
   "metadata": {
    "collapsed": false,
    "ExecuteTime": {
     "end_time": "2023-11-28T08:50:06.855648Z",
     "start_time": "2023-11-28T08:49:58.210315Z"
    }
   },
   "id": "37450156437d60a9"
  },
  {
   "cell_type": "code",
   "execution_count": 120,
   "outputs": [],
   "source": [
    "# STEP 1: SAMPLE THE IDs WE WANT TO USE: max 6 samples per population\n",
    "samples = full_dataset.sample_ids\n",
    "samples.name = \"sample_id\"\n",
    "populations = full_dataset.populations\n",
    "populations.name = \"population\"\n",
    "# concat the sample IDs and the populations\n",
    "samples_and_populations = pd.concat([samples, populations], axis=1)\n",
    "# find all populations and respective samples with less than or exactly 6 samples as we don't need to sample from them\n",
    "s_and_p_no_sampling = samples_and_populations.groupby(\"population\").count().loc[lambda x: x.sample_id <= 6]\n",
    "# filter all samples to get only the ones we do need to sample\n",
    "s_and_p_to_sample = samples_and_populations.loc[lambda x: ~x.population.isin(s_and_p_no_sampling.index)]\n",
    "# draw six random samples, set the seed to obtain the same results each time we run this notebook\n",
    "sampled = s_and_p_to_sample.groupby(\"population\").sample(n=6, random_state=42)\n",
    "# finally collect all samples we want to use for the PCA analyses\n",
    "sampled_samples = pd.concat([sampled, s_and_p_no_sampling])\n",
    "\n",
    "\n",
    "# STEP 2: FILTER THE GENOTYPE DATA\n",
    "sampled_genotypes = []\n",
    "for sample_id, genotype in zip(full_dataset.sample_ids, full_dataset.input_data):\n",
    "    if sample_id in sampled_samples.sample_id.values:\n",
    "        sampled_genotypes.append(genotype)\n",
    "\n",
    "# STEP 3: WRITE THE DATA IN EIGENFORMAT TO FILE\n",
    "# we only modified the .ind and .geno data, so we can simply copy the .snp file\n",
    "shutil.copy(FULL_DATASET_PREFIX.with_suffix(\".snp\"), SAMPLED_DATASET_PREFIX.with_suffix(\".snp\"))\n",
    "\n",
    "# write the .ind file\n",
    "# for this we also need the sex information, so we base this on the FULL_DATASET ind file\n",
    "with FULL_DATASET_PREFIX.with_suffix(\".ind\").open() as full_ind, SAMPLED_DATASET_PREFIX.with_suffix(\".ind\").open(\"w\") as sampled_ind:\n",
    "    for ind in full_ind:\n",
    "        sid, _ = ind.split(maxsplit=1)\n",
    "        if sid in sampled_samples.sample_id.values:\n",
    "            sampled_ind.write(ind)\n",
    "            \n",
    "# write the .geno file\n",
    "sampled_genotypes = np.asarray(sampled_genotypes).T\n",
    "# represent the missing value correclty in EIGEN format as a 9\n",
    "sampled_genotypes[sampled_genotypes == full_dataset._missing_value] = 9\n",
    "lengths = set()\n",
    "with SAMPLED_DATASET_PREFIX.with_suffix(\".geno\").open(\"w\") as f:\n",
    "    for line in sampled_genotypes:\n",
    "        str_to_write = \"\".join([str(v) for v in line]).strip()\n",
    "        lengths.add(len(str_to_write))\n",
    "        f.write(str_to_write)\n",
    "        f.write(\"\\n\")"
   ],
   "metadata": {
    "collapsed": false,
    "ExecuteTime": {
     "end_time": "2023-11-28T09:24:29.239118Z",
     "start_time": "2023-11-28T09:24:25.143667Z"
    }
   },
   "id": "ed23a7048f80bc9"
  }
 ],
 "metadata": {
  "kernelspec": {
   "display_name": "Python 3",
   "language": "python",
   "name": "python3"
  },
  "language_info": {
   "codemirror_mode": {
    "name": "ipython",
    "version": 2
   },
   "file_extension": ".py",
   "mimetype": "text/x-python",
   "name": "python",
   "nbconvert_exporter": "python",
   "pygments_lexer": "ipython2",
   "version": "2.7.6"
  }
 },
 "nbformat": 4,
 "nbformat_minor": 5
}
