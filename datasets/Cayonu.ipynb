{
 "cells": [
  {
   "cell_type": "markdown",
   "source": [
    "# Recreating the Çayönü dataset analyses\n",
    "\n",
    "In their analyses, Mathieson et al. place 13 Çayönü samples on the west-eurasian subset of the Human Origins (NearEastPublic) dataset.\n",
    "\n",
    "N. Ezgi Altınışık et al. ,A genomic snapshot of demographic and cultural dynamism in Upper Mesopotamia during the Neolithic Transition.Sci. Adv.8,eabo3609(2022). https://doi.org/10.1126/sciadv.abo3609\n",
    "\n",
    "**Note: run the NearEastPublic.ipynb notebook first as we need the west-eurasian dataset for these analyses**\n",
    "\n"
   ],
   "metadata": {
    "collapsed": false
   },
   "id": "d21e653b06e45f8d"
  },
  {
   "cell_type": "code",
   "execution_count": null,
   "outputs": [],
   "source": [
    "# ! mkdir Cayonu && cd Cayonu && wget https://zenodo.org/api/records/7305608/files-archive && mv files-archive files-archive.zip\n",
    "# ! cd Cayonu && unzip files-archive.zip && rm files-archive.zip\n",
    "# ! cd Cayonu && mkdir westEurasian_ancient"
   ],
   "metadata": {
    "collapsed": false
   },
   "id": "cc77513bf59a3d11"
  },
  {
   "cell_type": "code",
   "execution_count": 8,
   "outputs": [],
   "source": [
    "import pathlib\n",
    "import shutil\n",
    "\n",
    "from filter_merge_utils import merge_datasets, indfile_to_dataframe\n",
    "\n",
    "base_dir = pathlib.Path(\"Cayonu\")\n",
    "ancient_prefix = base_dir / \"Cayonu.HO\"\n",
    "west_eurasia_prefix = pathlib.Path(\"NearEastPublic\") / \"westEurasia\" / \"HumanOriginsPublic2068.westEurasian\""
   ],
   "metadata": {
    "collapsed": false,
    "ExecuteTime": {
     "end_time": "2023-11-13T13:04:13.668532Z",
     "start_time": "2023-11-13T13:04:13.665241Z"
    }
   },
   "id": "initial_id"
  },
  {
   "cell_type": "code",
   "execution_count": 5,
   "outputs": [],
   "source": [
    "# the naming scheme for the SNPs in NearEastPublic HO data and the Cayonu data differ, so we adjust the naming scheme to be able to merge the data \n",
    "# in the original HO data, the SNP name look like this: \"rs112869874\"\n",
    "# but in the Cayonu naming scheme their name follows the convention chromosomeID_physicalPositionOnChromosome\n",
    "\n",
    "renamed_west_eurasia_prefix = base_dir / \"westEurasia\" / \"HumanOriginsPublic2068.westEurasian.renamed\"\n",
    "renamed_west_eurasia_prefix.mkdir(exist_ok=True, parents=True)\n",
    "\n",
    "# the ind and geno files are not affected by this, so we can simply copy them\n",
    "for file_suffix in [\".ind\", \".geno\"]:\n",
    "    src = f\"{west_eurasia_prefix}{file_suffix}\"\n",
    "    dst = f\"{renamed_west_eurasia_prefix}{file_suffix}\"\n",
    "    shutil.copy(src, dst)\n",
    "\n",
    "# the snp file is affected, so we read each line in the HO SNP file and write the line with the new identifier \n",
    "src = pathlib.Path(f\"{west_eurasia_prefix}.snp\")\n",
    "dst = pathlib.Path(f\"{renamed_west_eurasia_prefix}.snp\")\n",
    "\n",
    "with dst.open(\"w\") as snp_out:\n",
    "    for snp_line in src.open():\n",
    "        # SNP line looks like this:\n",
    "        # rs3094315     1        0.020130          752566 G A\n",
    "        orig_name, chrom_id, relative_pos, absolute_pos, allel1, allel2 = snp_line.split()\n",
    "        new_name = f\"{chrom_id}_{absolute_pos}\"\n",
    "        new_snp_line = \"\\t\".join([new_name, chrom_id, relative_pos, absolute_pos, allel1, allel2]) + \"\\n\"\n",
    "        snp_out.write(new_snp_line)"
   ],
   "metadata": {
    "collapsed": false,
    "ExecuteTime": {
     "end_time": "2023-11-13T13:03:34.816541Z",
     "start_time": "2023-11-13T13:03:34.296779Z"
    }
   },
   "id": "ba82e31a7fc116ef"
  },
  {
   "cell_type": "code",
   "execution_count": 9,
   "outputs": [
    {
     "name": "stdout",
     "output_type": "stream",
     "text": [
      "parameter file: /var/folders/c3/6cf6l4n106v0gfcqwr1bt8nr0000gn/T/tmpsp7x1gj7\n",
      "geno1: Cayonu/westEurasia/HumanOriginsPublic2068.westEurasian.renamed.geno\n",
      "snp1: Cayonu/westEurasia/HumanOriginsPublic2068.westEurasian.renamed.snp\n",
      "ind1: Cayonu/westEurasia/HumanOriginsPublic2068.westEurasian.renamed.ind\n",
      "geno2: Cayonu/Cayonu.HO.geno\n",
      "snp2: Cayonu/Cayonu.HO.snp\n",
      "ind2: Cayonu/Cayonu.HO.ind\n",
      "genooutfilename: Cayonu/westEurasian_ancient/Cayonu_ModernWestEurasia.geno\n",
      "snpoutfilename: Cayonu/westEurasian_ancient/Cayonu_ModernWestEurasia.snp\n",
      "indoutfilename: Cayonu/westEurasian_ancient/Cayonu_ModernWestEurasia.ind\n",
      "hashcheck: NO\n",
      "packed geno read OK\n",
      "end of inpack\n",
      "numsnps: 621799  numindivs: 826\n",
      "packedancestrymap output\n",
      "##end of mergeit run\n"
     ]
    },
    {
     "data": {
      "text/plain": "526"
     },
     "execution_count": 9,
     "metadata": {},
     "output_type": "execute_result"
    }
   ],
   "source": [
    "merged_prefix = base_dir / \"westEurasian_ancient\" / \"Cayonu_ModernWestEurasia\"\n",
    "merged_prefix.parent.mkdir(exist_ok=True)\n",
    "\n",
    "# The ancient samples contain some samples we want to exclude prior to PCA (e.g. Chimp sequences)\n",
    "merge_datasets(\n",
    "    prefix_ds1=renamed_west_eurasia_prefix,\n",
    "    prefix_ds2=ancient_prefix,\n",
    "    prefix_out=merged_prefix,\n",
    "    redo=False\n",
    ")\n",
    "\n",
    "ancient_ind_file = pathlib.Path(f\"{ancient_prefix}.ind\")\n",
    "ancient_ind_data = indfile_to_dataframe(ancient_ind_file)\n",
    "ancient_populations = ancient_ind_data.population.unique().tolist()\n",
    "\n",
    "# finally, save the population names of the modern samples in a specific file such that we can later use it for the PCA projection\n",
    "ind_file = pathlib.Path(f\"{merged_prefix}.ind\")\n",
    "ind_df = indfile_to_dataframe(ind_file)\n",
    "\n",
    "modern = [p for p in ind_df.population.unique() if p not in ancient_populations]\n",
    "modern_populations = base_dir / \"westEurasian_ancient\" /  \"modern.poplist.txt\"\n",
    "modern_populations.open(\"w\").write(\"\\n\".join(modern))"
   ],
   "metadata": {
    "collapsed": false,
    "ExecuteTime": {
     "end_time": "2023-11-13T13:04:30.265170Z",
     "start_time": "2023-11-13T13:04:16.768343Z"
    }
   },
   "id": "d06e5c975c5bb64f"
  },
  {
   "cell_type": "code",
   "execution_count": null,
   "outputs": [],
   "source": [],
   "metadata": {
    "collapsed": false
   },
   "id": "81816a19145570d0"
  }
 ],
 "metadata": {
  "kernelspec": {
   "display_name": "Python 3",
   "language": "python",
   "name": "python3"
  },
  "language_info": {
   "codemirror_mode": {
    "name": "ipython",
    "version": 2
   },
   "file_extension": ".py",
   "mimetype": "text/x-python",
   "name": "python",
   "nbconvert_exporter": "python",
   "pygments_lexer": "ipython2",
   "version": "2.7.6"
  }
 },
 "nbformat": 4,
 "nbformat_minor": 5
}
