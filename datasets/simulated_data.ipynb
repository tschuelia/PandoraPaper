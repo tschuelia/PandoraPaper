{
 "cells": [
  {
   "cell_type": "markdown",
   "source": [
    "# Simulated data\n",
    "\n",
    "Data obtained from:\n",
    "\n",
    "Yi, X., & Latch, E. K. (2022). Nonrandom missing data can bias Principal Component Analysis inference of population genetic structure.\n",
    "Molecular Ecology Resources, 22, 602– 611. https://doi.org/10.1111/1755-0998.13498.\n",
    "\n",
    "To run the benchmarks for this data, first run the cell below to download the data, then use the script `benchmarking/benchmark_simulated_data.py`\n"
   ],
   "metadata": {
    "collapsed": false
   },
   "id": "fc2f3aae3c86df84"
  },
  {
   "cell_type": "code",
   "execution_count": null,
   "outputs": [],
   "source": [
    "! mkdir simulated_data  && cd simulated_data\n",
    "! cd simulated_data & wget https://github.com/xuelingyi/missing_data_PCA/raw/main/simulation.zip && unzip simulation.zip && rm simulation.zip\n",
    "! cd simulated_data & wget https://github.com/xuelingyi/missing_data_PCA/raw/main/MISSdata.zip && unzip MISSdata.zip && rm MISSdata.zip"
   ],
   "metadata": {
    "collapsed": false
   },
   "id": "b5ddd3bc97825b03"
  }
 ],
 "metadata": {
  "kernelspec": {
   "display_name": "Python 3",
   "language": "python",
   "name": "python3"
  },
  "language_info": {
   "codemirror_mode": {
    "name": "ipython",
    "version": 2
   },
   "file_extension": ".py",
   "mimetype": "text/x-python",
   "name": "python",
   "nbconvert_exporter": "python",
   "pygments_lexer": "ipython2",
   "version": "2.7.6"
  }
 },
 "nbformat": 4,
 "nbformat_minor": 5
}
