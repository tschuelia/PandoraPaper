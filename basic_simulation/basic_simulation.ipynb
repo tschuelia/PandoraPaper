{
 "cells": [
  {
   "metadata": {},
   "cell_type": "markdown",
   "source": [
    "# Simulations using a random dataset and scikit-learn blob dataset\n",
    "\n",
    "For our first argument in the paper to demonstrate, that Pandora is able to detect instability in PCA/MDS analyses, we use two datasets:\n",
    "1. a dataset of randomly generated samples and features\n",
    "2. a blob dataset using the scikit-learn library\n",
    "\n",
    "For dataset (1), we expect a low Pandora Stability (PS) value since the data is completely random and there is no structure in the data. For dataset (2), we expect a high PS value since the data is generated such that it contains three distinct \"blobs\" of data, i.e. three distinct clusters. The signal in the data should be high enough to be stable across different runs of the PCA/MDS analysis on bootstrapped datasets.\n"
   ],
   "id": "4c8b907c6fc45baf"
  },
  {
   "metadata": {
    "ExecuteTime": {
     "end_time": "2025-01-06T11:19:23.419892Z",
     "start_time": "2025-01-06T11:19:19.883872Z"
    }
   },
   "cell_type": "code",
   "source": [
    "import numpy as np\n",
    "import pandas as pd\n",
    "from sklearn.datasets import make_blobs\n",
    "\n",
    "from pandora.dataset import NumpyDataset\n",
    "from pandora.embedding_comparison import BatchEmbeddingComparison\n",
    "from pandora.plotting import plot_populations\n",
    "\n",
    "N_BOOTSTRAPS = 10"
   ],
   "id": "2edbce39b052a502",
   "outputs": [],
   "execution_count": 1
  },
  {
   "metadata": {},
   "cell_type": "markdown",
   "source": [
    "## 1. Random Dataset\n",
    "\n",
    "We generate a random dataset with 100 samples and 10,000 features. We generate that many features since genotype datasets typically contain a large number of features (e.g. SNPs) compared to the number of individuals in the dataset."
   ],
   "id": "ba32c885cc1f8978"
  },
  {
   "metadata": {
    "ExecuteTime": {
     "end_time": "2025-01-08T15:52:27.569035Z",
     "start_time": "2025-01-08T15:52:27.100694Z"
    }
   },
   "cell_type": "code",
   "source": [
    "np.random.seed(42)\n",
    "X = np.random.choice([0, 1, 2], (100, 10_000))\n",
    "samples = pd.Series([f\"sample_{i}\" for i in range(X.shape[0])])\n",
    "populations = pd.Series([\"random\" for _ in range(X.shape[0])])\n",
    "dataset = NumpyDataset(X, sample_ids=samples, populations=populations, dtype=np.float64)\n",
    "\n",
    "# generate N_BOOTSTRAP bootstrap datasets\n",
    "bootstrap_datasets = [dataset.bootstrap(seed=i) for i in range(N_BOOTSTRAPS)]"
   ],
   "id": "f4803c586bbdd9ed",
   "outputs": [],
   "execution_count": 25
  },
  {
   "metadata": {},
   "cell_type": "markdown",
   "source": "### 1.1. PCA Analysis",
   "id": "e20195cad40a089a"
  },
  {
   "metadata": {
    "ExecuteTime": {
     "end_time": "2025-01-08T15:52:36.339928Z",
     "start_time": "2025-01-08T15:52:29.255985Z"
    }
   },
   "cell_type": "code",
   "source": [
    "dataset.run_pca(n_components=2)\n",
    "\n",
    "# run PCA for each bootstrap dataset\n",
    "_ = [b.run_pca(n_components=2) for b in bootstrap_datasets]\n",
    "# compare the embeddings\n",
    "embedding_comparison = BatchEmbeddingComparison([b.pca for b in bootstrap_datasets])\n",
    "ps = embedding_comparison.compare()\n",
    "pcs = embedding_comparison.compare_clustering(kmeans_k=3)\n",
    "\n",
    "print(\"Pandora Stability (PCA):\", round(ps, 2))\n",
    "print(\"Pandora Cluster Stability (PCA):\", round(pcs, 2))\n",
    "\n",
    "# plot_populations(dataset.pca)"
   ],
   "id": "39eadc402b2d6ae2",
   "outputs": [
    {
     "name": "stdout",
     "output_type": "stream",
     "text": [
      "Pandora Stability (PCA): 0.34\n",
      "Pandora Cluster Stability (PCA): 0.35\n"
     ]
    }
   ],
   "execution_count": 26
  },
  {
   "metadata": {},
   "cell_type": "markdown",
   "source": "### 1.2. MDS Analysis",
   "id": "859bd9cbe4f765fe"
  },
  {
   "metadata": {
    "ExecuteTime": {
     "end_time": "2025-01-08T12:08:32.658251Z",
     "start_time": "2025-01-08T12:08:29.578434Z"
    }
   },
   "cell_type": "code",
   "source": [
    "dataset.run_mds(n_components=2)\n",
    "\n",
    "# run MDS for each bootstrap dataset\n",
    "_ = [b.run_mds(n_components=2) for b in bootstrap_datasets]\n",
    "# compare the embeddings\n",
    "embedding_comparison = BatchEmbeddingComparison([b.mds for b in bootstrap_datasets])\n",
    "ps = embedding_comparison.compare()\n",
    "pcs = embedding_comparison.compare_clustering(kmeans_k=3)\n",
    "\n",
    "print(\"Pandora Stability (MDS):\", round(ps, 2))\n",
    "print(\"Pandora Cluster Stability (PCA):\", round(pcs, 2))\n",
    "\n",
    "# plot_populations(dataset.mds)"
   ],
   "id": "ae4534b5b453f8e9",
   "outputs": [
    {
     "name": "stdout",
     "output_type": "stream",
     "text": [
      "Pandora Stability (MDS): 0.28\n",
      "Pandora Cluster Stability (PCA): 0.34\n"
     ]
    }
   ],
   "execution_count": 21
  },
  {
   "metadata": {},
   "cell_type": "markdown",
   "source": "## 2. Blob Dataset",
   "id": "b8c92a869938fe64"
  },
  {
   "metadata": {
    "ExecuteTime": {
     "end_time": "2025-01-08T12:08:38.670549Z",
     "start_time": "2025-01-08T12:08:38.567267Z"
    }
   },
   "cell_type": "code",
   "source": [
    "X, y = make_blobs(n_samples=100, n_features=10_000, random_state=42)\n",
    "samples = pd.Series([f\"sample_{i}\" for i in range(X.shape[0])])\n",
    "populations = pd.Series(f\"blob_{i}\" for i in y)\n",
    "\n",
    "dataset = NumpyDataset(X, sample_ids=samples, populations=populations, dtype=np.float64)\n",
    "\n",
    "# generate N_BOOTSTRAP bootstrap datasets\n",
    "bootstrap_datasets = [dataset.bootstrap(seed=i) for i in range(N_BOOTSTRAPS)]"
   ],
   "id": "955993a2e9bd549b",
   "outputs": [],
   "execution_count": 22
  },
  {
   "metadata": {},
   "cell_type": "markdown",
   "source": "### 1.1. PCA Analysis",
   "id": "ae1d1d9a9d5629f7"
  },
  {
   "metadata": {
    "ExecuteTime": {
     "end_time": "2025-01-06T11:20:29.331241Z",
     "start_time": "2025-01-06T11:20:24.948077Z"
    }
   },
   "cell_type": "code",
   "source": [
    "dataset.run_pca(n_components=2)\n",
    "\n",
    "# run PCA for each bootstrap dataset\n",
    "_ = [b.run_pca(n_components=2) for b in bootstrap_datasets]\n",
    "# compare the embeddings\n",
    "embedding_comparison = BatchEmbeddingComparison([b.pca for b in bootstrap_datasets])\n",
    "ps = embedding_comparison.compare()\n",
    "pcs = embedding_comparison.compare_clustering(kmeans_k=3)\n",
    "print(\"Pandora Stability (PCA):\", round(ps, 2))\n",
    "print(\"Pandora Cluster Stability (PCA):\", round(pcs, 2))\n",
    "\n",
    "# plot_populations(dataset.pca)"
   ],
   "id": "e237d74454ccae4b",
   "outputs": [
    {
     "name": "stdout",
     "output_type": "stream",
     "text": [
      "Pandora Stability (PCA): 1.0\n",
      "Pandora Cluster Stability (PCA): 1.0\n"
     ]
    }
   ],
   "execution_count": 12
  },
  {
   "metadata": {},
   "cell_type": "markdown",
   "source": "### 1.2. MDS Analysis",
   "id": "5d431d771001651b"
  },
  {
   "metadata": {
    "ExecuteTime": {
     "end_time": "2025-01-06T11:20:32.439029Z",
     "start_time": "2025-01-06T11:20:29.394636Z"
    }
   },
   "cell_type": "code",
   "source": [
    "dataset.run_mds(n_components=2)\n",
    "\n",
    "# run MDS for each bootstrap dataset\n",
    "_ = [b.run_mds(n_components=2) for b in bootstrap_datasets]\n",
    "# compare the embeddings\n",
    "embedding_comparison = BatchEmbeddingComparison([b.pca for b in bootstrap_datasets])\n",
    "ps = embedding_comparison.compare()\n",
    "pcs = embedding_comparison.compare_clustering(kmeans_k=3)\n",
    "print(\"Pandora Stability (MDS):\", round(ps, 2))\n",
    "print(\"Pandora Cluster Stability (PCA):\", round(pcs, 2))\n",
    "\n",
    "# plot_populations(dataset.mds)"
   ],
   "id": "d37803d7b6edb159",
   "outputs": [
    {
     "name": "stdout",
     "output_type": "stream",
     "text": [
      "Pandora Stability (MDS): 1.0\n",
      "Pandora Cluster Stability (PCA): 1.0\n"
     ]
    }
   ],
   "execution_count": 13
  },
  {
   "metadata": {},
   "cell_type": "code",
   "outputs": [],
   "execution_count": null,
   "source": "",
   "id": "e98f906ae7deeca8"
  }
 ],
 "metadata": {
  "kernelspec": {
   "display_name": "Python 3",
   "language": "python",
   "name": "python3"
  },
  "language_info": {
   "codemirror_mode": {
    "name": "ipython",
    "version": 2
   },
   "file_extension": ".py",
   "mimetype": "text/x-python",
   "name": "python",
   "nbconvert_exporter": "python",
   "pygments_lexer": "ipython2",
   "version": "2.7.6"
  }
 },
 "nbformat": 4,
 "nbformat_minor": 5
}
